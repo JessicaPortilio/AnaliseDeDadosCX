{
  "nbformat": 4,
  "nbformat_minor": 0,
  "metadata": {
    "colab": {
      "provenance": []
    },
    "kernelspec": {
      "name": "python3",
      "display_name": "Python 3"
    },
    "language_info": {
      "name": "python"
    }
  },
  "cells": [
    {
      "cell_type": "markdown",
      "source": [
        "Análise de Dados que se concentra em melhorar a experiência do cliente (CX) por meio de personalização e recomendações"
      ],
      "metadata": {
        "id": "JWS7A7X_mc2T"
      }
    },
    {
      "cell_type": "markdown",
      "source": [
        "# Preparação do Ambiente\n",
        "Certifique-se de que o Python e as bibliotecas estão instalados no seu sistema."
      ],
      "metadata": {
        "id": "2XU9XFPId1eM"
      }
    },
    {
      "cell_type": "code",
      "source": [
        "# Esta linha importa o módulo csv, que permite a leitura e escrita de arquivos\n",
        "# CSV (Comma Separated Values),\n",
        "# um formato comum de armazenamento de dados tabulares.\n",
        "import csv\n",
        "# Aqui, você importa o módulo random, que fornece funções para gerar\n",
        "# números aleatórios e realizar operações relacionadas à aleatoriedade.\n",
        "import random\n",
        "# Esta linha importa as classes date e timedelta do módulo datetime.\n",
        "# Essas classes são usadas para trabalhar com datas e períodos de tempo.\n",
        "from datetime import date, timedelta\n",
        "# Essa linha importa a biblioteca pandas e a apelida de pd.\n",
        "# O Pandas é uma biblioteca popular para análise e manipulação\n",
        "# de dados em Python. O uso de pd como apelido é uma convenção comum.\n",
        "import pandas as pd\n",
        "# Aqui, você importa o submódulo pyplot da biblioteca matplotlib\n",
        "# e o apelida de plt. O matplotlib é uma biblioteca amplamente utilizada\n",
        "# para criação de gráficos e visualização de dados em Python.\n",
        "import matplotlib.pyplot as plt"
      ],
      "metadata": {
        "id": "gmu0XBxzbTio"
      },
      "execution_count": 114,
      "outputs": []
    },
    {
      "cell_type": "markdown",
      "source": [
        "## Obtenção dos Dados\n",
        "Você pode usar dados de vendas fictícias para este projeto. Crie um arquivo CSV chamado \"dados_vendas.csv\" já fizemos isso logo a cima, com as seguintes colunas:\n",
        "Data, Produto, Quanidade, Preço Unitário e Total Vendas. O preenchimento foi feito com dados fictícios"
      ],
      "metadata": {
        "id": "EiVAhniWekT0"
      }
    },
    {
      "cell_type": "markdown",
      "source": [
        "## Análise de Perguntas\n",
        "Vamos responder algumas perguntas básicas sobre os dados, como:\n",
        "1. Qual foi o produto mais vendido?\n",
        "2. Qual foi o produto menos vendido?\n",
        "3. Qual foi o dia com o maior valor total de vendas?\n",
        "4. Qual foi o dia com o menor valor total de vendas?\n",
        "5. Qual foi o cliente que fez o maior número de compras?\n",
        "6. Qual foi o cliente que gastou mais dinheiro?\n",
        "7. Qual foi o produto mais lucrativo?\n",
        "8. Qual foi o dia com a maior quantidade de vendas?\n",
        "9. Qual foi o dia com a menor quantidade de vendas?\n",
        "10. Qual foi o produto que teve o maior preço unitário?\n",
        "11. Qual foi o produto que teve o menor preço unitário?\n",
        "12 . Qual foi o valor médio de vendas?\n",
        "13 Qual foi o valor médio de vendas por produto?\n",
        "14. Qual foi o produto que teve o méida de preço unitário maior?"
      ],
      "metadata": {
        "id": "G-qHShzOf2cK"
      }
    },
    {
      "cell_type": "code",
      "source": [
        "# 1. Qual foi o produto mais vendido?\n",
        "produto_mais_vendido = df.groupby('Produto')['Quantidade'].sum().idxmax()\n",
        "produto_mais_vendido"
      ],
      "metadata": {
        "colab": {
          "base_uri": "https://localhost:8080/",
          "height": 35
        },
        "id": "f8mi3228f6VD",
        "outputId": "2a1ecea5-c4f5-40ac-f343-b358c62000bf"
      },
      "execution_count": 115,
      "outputs": [
        {
          "output_type": "execute_result",
          "data": {
            "text/plain": [
              "'Produto B'"
            ],
            "application/vnd.google.colaboratory.intrinsic+json": {
              "type": "string"
            }
          },
          "metadata": {},
          "execution_count": 115
        }
      ]
    },
    {
      "cell_type": "code",
      "source": [
        "# 2. Qual foi o produto menos vendido?\n",
        "produto_menos_vendido = df['Produto'].value_counts().idxmin()\n",
        "produto_menos_vendido"
      ],
      "metadata": {
        "colab": {
          "base_uri": "https://localhost:8080/",
          "height": 35
        },
        "id": "V2VfKcuifrNM",
        "outputId": "ce9d03e1-0eb8-4c5c-db2b-433c44d80102"
      },
      "execution_count": 116,
      "outputs": [
        {
          "output_type": "execute_result",
          "data": {
            "text/plain": [
              "'Produto C'"
            ],
            "application/vnd.google.colaboratory.intrinsic+json": {
              "type": "string"
            }
          },
          "metadata": {},
          "execution_count": 116
        }
      ]
    },
    {
      "cell_type": "code",
      "source": [
        "# 3. Qual foi o dia com o maior valor total de vendas?\n",
        "dia_maior_vendas = df[df['Total Vendas'] == df['Total Vendas'].max()]['Data'].values[0]\n",
        "dia_maior_vendas"
      ],
      "metadata": {
        "colab": {
          "base_uri": "https://localhost:8080/",
          "height": 35
        },
        "id": "QyX0h6uxh8pH",
        "outputId": "e92dfe97-c2c6-4d9f-bebe-3c007f7c4674"
      },
      "execution_count": 117,
      "outputs": [
        {
          "output_type": "execute_result",
          "data": {
            "text/plain": [
              "'2023-06-20'"
            ],
            "application/vnd.google.colaboratory.intrinsic+json": {
              "type": "string"
            }
          },
          "metadata": {},
          "execution_count": 117
        }
      ]
    },
    {
      "cell_type": "code",
      "source": [
        "# 4. Qual foi o dia com o menor valor total de vendas?\n",
        "dia_menos_vendas = df[df['Total Vendas'] == df['Total Vendas'].min()]['Data'].values[0]\n",
        "dia_menos_vendas"
      ],
      "metadata": {
        "colab": {
          "base_uri": "https://localhost:8080/",
          "height": 35
        },
        "id": "eFcMEwV5oXFQ",
        "outputId": "394d454c-b982-4f79-8d85-e879b94c9d8a"
      },
      "execution_count": 118,
      "outputs": [
        {
          "output_type": "execute_result",
          "data": {
            "text/plain": [
              "'2023-12-28'"
            ],
            "application/vnd.google.colaboratory.intrinsic+json": {
              "type": "string"
            }
          },
          "metadata": {},
          "execution_count": 118
        }
      ]
    },
    {
      "cell_type": "code",
      "source": [
        "# 5. Qual foi o cliente que fez o maior número de compras?\n",
        "cliente_maior_compras = df.groupby('ClienteID')['Quantidade'].sum().idxmax()\n",
        "cliente_maior_compras"
      ],
      "metadata": {
        "colab": {
          "base_uri": "https://localhost:8080/"
        },
        "id": "tkNZLhAZjiBO",
        "outputId": "e62007ca-c6b6-4709-e7a9-c8945b6a2008"
      },
      "execution_count": 119,
      "outputs": [
        {
          "output_type": "execute_result",
          "data": {
            "text/plain": [
              "26"
            ]
          },
          "metadata": {},
          "execution_count": 119
        }
      ]
    },
    {
      "cell_type": "code",
      "source": [
        "# 6. Qual foi o cliente que gastou mais dinheiro?\n",
        "cliente_que_gastou_mais = df.groupby('ClienteID')['Total Vendas'].sum().idxmax()\n",
        "cliente_que_gastou_mais"
      ],
      "metadata": {
        "colab": {
          "base_uri": "https://localhost:8080/"
        },
        "id": "GaiKPndipnuF",
        "outputId": "2049c16d-2f1f-4f4d-e903-d3963b607af9"
      },
      "execution_count": 120,
      "outputs": [
        {
          "output_type": "execute_result",
          "data": {
            "text/plain": [
              "16"
            ]
          },
          "metadata": {},
          "execution_count": 120
        }
      ]
    },
    {
      "cell_type": "code",
      "source": [
        "# 7. Qual foi o produto mais lucrativo?\n",
        "produto_mais_lucrativo = df.groupby('Produto')['Total Vendas'].sum().idxmax()\n",
        "produto_mais_lucrativo"
      ],
      "metadata": {
        "colab": {
          "base_uri": "https://localhost:8080/",
          "height": 35
        },
        "id": "MLDqDZRcpzTd",
        "outputId": "f9f495bb-bb5e-4b92-de3a-9f1eeaa2d314"
      },
      "execution_count": 121,
      "outputs": [
        {
          "output_type": "execute_result",
          "data": {
            "text/plain": [
              "'Produto B'"
            ],
            "application/vnd.google.colaboratory.intrinsic+json": {
              "type": "string"
            }
          },
          "metadata": {},
          "execution_count": 121
        }
      ]
    },
    {
      "cell_type": "code",
      "source": [
        "# 8. Qual foi o dia com a maior quantidade de vendas?\n",
        "dia_maxima_quantidade = df[df['Quantidade'] == df['Quantidade'].max()]['Data'].values[0]\n",
        "dia_maxima_quantidade"
      ],
      "metadata": {
        "colab": {
          "base_uri": "https://localhost:8080/",
          "height": 35
        },
        "id": "oN8qaZN0p3Ai",
        "outputId": "28410377-497f-40fc-aaca-50fa3d72f341"
      },
      "execution_count": 122,
      "outputs": [
        {
          "output_type": "execute_result",
          "data": {
            "text/plain": [
              "'2023-08-16'"
            ],
            "application/vnd.google.colaboratory.intrinsic+json": {
              "type": "string"
            }
          },
          "metadata": {},
          "execution_count": 122
        }
      ]
    },
    {
      "cell_type": "code",
      "source": [
        "# 9. Qual foi o dia com a menor quantidade de vendas?\n",
        "dia_minima_quantidade = df[df['Quantidade'] == df['Quantidade'].min()]['Data'].values[0]\n",
        "dia_minima_quantidade"
      ],
      "metadata": {
        "colab": {
          "base_uri": "https://localhost:8080/",
          "height": 35
        },
        "id": "Xj54RLRXqDWX",
        "outputId": "a6b97bac-6f7b-4de8-e23c-35dad2d9a6be"
      },
      "execution_count": 123,
      "outputs": [
        {
          "output_type": "execute_result",
          "data": {
            "text/plain": [
              "'2023-06-04'"
            ],
            "application/vnd.google.colaboratory.intrinsic+json": {
              "type": "string"
            }
          },
          "metadata": {},
          "execution_count": 123
        }
      ]
    },
    {
      "cell_type": "code",
      "source": [
        "# 10. Qual foi o produto que teve o maior preço unitário?\n",
        "produto_maior_preco_unitario = df.groupby('Produto')['Preço Unitário'].max().idxmax()\n",
        "produto_maior_preco_unitario"
      ],
      "metadata": {
        "colab": {
          "base_uri": "https://localhost:8080/",
          "height": 35
        },
        "id": "iMeiipT-qK8f",
        "outputId": "ecced276-ae03-4392-a9b8-ae51072e98d9"
      },
      "execution_count": 124,
      "outputs": [
        {
          "output_type": "execute_result",
          "data": {
            "text/plain": [
              "'Produto B'"
            ],
            "application/vnd.google.colaboratory.intrinsic+json": {
              "type": "string"
            }
          },
          "metadata": {},
          "execution_count": 124
        }
      ]
    },
    {
      "cell_type": "code",
      "source": [
        "# 11. Qual foi o produto que teve o menor preço unitário?\n",
        "produto_menor_preco_unitario = df.groupby('Produto')['Preço Unitário'].min().idxmin()\n",
        "produto_menor_preco_unitario"
      ],
      "metadata": {
        "colab": {
          "base_uri": "https://localhost:8080/",
          "height": 35
        },
        "id": "EPhv7mYYqUx8",
        "outputId": "9e1f961f-e62d-4682-f068-451648c74eb2"
      },
      "execution_count": 125,
      "outputs": [
        {
          "output_type": "execute_result",
          "data": {
            "text/plain": [
              "'Produto B'"
            ],
            "application/vnd.google.colaboratory.intrinsic+json": {
              "type": "string"
            }
          },
          "metadata": {},
          "execution_count": 125
        }
      ]
    },
    {
      "cell_type": "code",
      "source": [
        "# 12 . Qual foi o valor médio de vendas?\n",
        "valor_medio_vendas_por_mes = df.groupby(df['Data'])['Total Vendas'].mean()\n",
        "valor_medio_vendas_por_mes"
      ],
      "metadata": {
        "colab": {
          "base_uri": "https://localhost:8080/"
        },
        "id": "QqYplpeGq6z5",
        "outputId": "695db0bd-235b-45d9-e3a7-e10a724815ec"
      },
      "execution_count": 126,
      "outputs": [
        {
          "output_type": "execute_result",
          "data": {
            "text/plain": [
              "Data\n",
              "2023-01-06     61.240000\n",
              "2023-01-18    470.650000\n",
              "2023-02-11    495.330000\n",
              "2023-02-15    275.240000\n",
              "2023-02-19    290.790000\n",
              "2023-02-24    562.080000\n",
              "2023-02-27    453.280000\n",
              "2023-03-06    138.750000\n",
              "2023-03-11    290.820000\n",
              "2023-04-01    397.200000\n",
              "2023-04-10    341.110000\n",
              "2023-04-22    640.800000\n",
              "2023-05-12     93.310000\n",
              "2023-05-15    378.300000\n",
              "2023-05-23    426.020000\n",
              "2023-06-04     49.960000\n",
              "2023-06-05    648.180000\n",
              "2023-06-09    186.540000\n",
              "2023-06-16    286.920000\n",
              "2023-06-19    108.800000\n",
              "2023-06-20    889.920000\n",
              "2023-06-25    101.960000\n",
              "2023-07-01    127.040000\n",
              "2023-07-07    237.760000\n",
              "2023-07-09    334.000000\n",
              "2023-07-11    125.640000\n",
              "2023-07-18    189.120000\n",
              "2023-07-19    296.370000\n",
              "2023-07-27    612.600000\n",
              "2023-08-16    209.383333\n",
              "2023-08-21    208.930000\n",
              "2023-09-12    166.160000\n",
              "2023-09-20    108.270000\n",
              "2023-09-22    349.900000\n",
              "2023-09-23    172.400000\n",
              "2023-10-07    328.160000\n",
              "2023-10-20     89.040000\n",
              "2023-11-05    501.120000\n",
              "2023-11-19    183.100000\n",
              "2023-12-04     34.740000\n",
              "2023-12-08    363.313333\n",
              "2023-12-17    376.740000\n",
              "2023-12-28     24.580000\n",
              "Name: Total Vendas, dtype: float64"
            ]
          },
          "metadata": {},
          "execution_count": 126
        }
      ]
    },
    {
      "cell_type": "code",
      "source": [
        "# 13 Qual foi o valor médio de vendas por produto?\n",
        "valor_medio_vendas_por_produto = df.groupby('Produto')['Total Vendas'].mean()\n",
        "valor_medio_vendas_por_produto"
      ],
      "metadata": {
        "colab": {
          "base_uri": "https://localhost:8080/"
        },
        "id": "nqpfjBPgrvr6",
        "outputId": "1683df52-4e77-4e02-b7da-7fc62b38237a"
      },
      "execution_count": 127,
      "outputs": [
        {
          "output_type": "execute_result",
          "data": {
            "text/plain": [
              "Produto\n",
              "Produto A    266.551000\n",
              "Produto B    341.337857\n",
              "Produto C    377.626667\n",
              "Produto D    235.687500\n",
              "Produto E    249.900833\n",
              "Name: Total Vendas, dtype: float64"
            ]
          },
          "metadata": {},
          "execution_count": 127
        }
      ]
    },
    {
      "cell_type": "code",
      "source": [
        "# 14. Qual foi o produto que teve o méida de preço unitário maior?\n",
        "produto_media_preco_unitario_maior = df.groupby('Produto')['Preço Unitário'].mean()\n",
        "produto_media_preco_unitario_maior"
      ],
      "metadata": {
        "colab": {
          "base_uri": "https://localhost:8080/"
        },
        "id": "Bg6fjCGV-Fm3",
        "outputId": "f08e72a7-f682-486e-c39e-9cb9f1764458"
      },
      "execution_count": 128,
      "outputs": [
        {
          "output_type": "execute_result",
          "data": {
            "text/plain": [
              "Produto\n",
              "Produto A    30.300000\n",
              "Produto B    30.530000\n",
              "Produto C    29.603333\n",
              "Produto D    22.432500\n",
              "Produto E    27.525000\n",
              "Name: Preço Unitário, dtype: float64"
            ]
          },
          "metadata": {},
          "execution_count": 128
        }
      ]
    },
    {
      "cell_type": "markdown",
      "source": [
        "## Análise de Padrões\n",
        "Identificar padrões nos dados para entender o comportamento dos clientes.\n",
        "Exemplo: Calcular as vendas totais por produto"
      ],
      "metadata": {
        "id": "tN2C0ldHkffc"
      }
    },
    {
      "cell_type": "code",
      "source": [
        "# Vendas totais por produto\n",
        "vendas_por_produto = df.groupby('Produto')['Total Vendas'].sum().reset_index()\n",
        "print(vendas_por_produto)"
      ],
      "metadata": {
        "colab": {
          "base_uri": "https://localhost:8080/"
        },
        "id": "uxs_OjBwjL-t",
        "outputId": "56f806e9-a5da-405a-928f-bdec5768f0c8"
      },
      "execution_count": 106,
      "outputs": [
        {
          "output_type": "stream",
          "name": "stdout",
          "text": [
            "     Produto  Total Vendas\n",
            "0  Produto A       2665.51\n",
            "1  Produto B       4778.73\n",
            "2  Produto C       2265.76\n",
            "3  Produto D       1885.50\n",
            "4  Produto E       2998.81\n"
          ]
        }
      ]
    },
    {
      "cell_type": "markdown",
      "source": [
        "## Personalização e Recomendações\n",
        "Com base nas análises anteriores, você pode personalizar a experiência do cliente oferecendo recomendações de produtos com base no histórico de compras.\n",
        "Exemplos: Para um cliente específico."
      ],
      "metadata": {
        "id": "_JVlmH6XkvMQ"
      }
    },
    {
      "cell_type": "code",
      "source": [
        "# Substitua 'cliente_id' pelo ID do cliente desejado\n",
        "cliente_id = 1\n",
        "historico_cliente = df[df['ClienteID'] == cliente_id]\n",
        "produtos_comprados = historico_cliente['Produto'].unique()\n",
        "\n",
        "# Recomendação de produtos com base nos produtos comprados pelo cliente\n",
        "produtos_recomendados = vendas_por_produto[~vendas_por_produto['Produto'].isin(produtos_comprados)]\n",
        "produtos_recomendados = produtos_recomendados.sort_values(by='Total Vendas', ascending=False)\n",
        "print('Produtos Recomendados para o Cliente', cliente_id)\n",
        "print(produtos_recomendados)"
      ],
      "metadata": {
        "colab": {
          "base_uri": "https://localhost:8080/"
        },
        "id": "GejAeuqRkUWA",
        "outputId": "e950af08-a20c-4f02-ee82-6cdf03b08307"
      },
      "execution_count": 129,
      "outputs": [
        {
          "output_type": "stream",
          "name": "stdout",
          "text": [
            "Produtos Recomendados para o Cliente 1\n",
            "     Produto  Total Vendas\n",
            "1  Produto B       4778.73\n",
            "4  Produto E       2998.81\n",
            "2  Produto C       2265.76\n",
            "3  Produto D       1885.50\n"
          ]
        }
      ]
    },
    {
      "cell_type": "markdown",
      "source": [
        "## Visualização de Dados\n",
        "Visualizações simples para melhor entender os dados, com um gráfico de barras para os produtos mais vendidos."
      ],
      "metadata": {
        "id": "ILJoYkACiXaA"
      }
    },
    {
      "cell_type": "code",
      "source": [
        "# Gráfico de barras dos produtos mais vendidos\n",
        "produtos_vendidos = df['Produto'].value_counts()\n",
        "produtos_vendidos.plot(kind='bar', xlabel='Produto', ylabel='Quantidade Vendida', title='Produtos Mais Vendidos')\n",
        "plt.xticks(rotation=45)\n",
        "plt.show()\n"
      ],
      "metadata": {
        "colab": {
          "base_uri": "https://localhost:8080/",
          "height": 516
        },
        "id": "8--4DABQiRSB",
        "outputId": "96eb1c43-8fb6-476f-c7f8-f44c2f5826f1"
      },
      "execution_count": 130,
      "outputs": [
        {
          "output_type": "display_data",
          "data": {
            "text/plain": [
              "<Figure size 640x480 with 1 Axes>"
            ],
            "image/png": "[encoded data removed]"
          },
          "metadata": {}
        }
      ]
    },
    {
      "cell_type": "code",
      "source": [
        "# Conclusão\n",
        "print('Conclusão:')\n",
        "print(f'Total de Vendas: {total_vendas:.2f}')\n",
        "print('Produto Mais Vendido:', produto_mais_vendido)\n",
        "print('Dia com Maior Número de Vendas:', dia_mais_vendas)\n",
        "print('Vendas totais por produto:')\n",
        "print(vendas_por_produto)\n",
        "\n",
        "\n",
        "\n",
        "# Exporte os resultados para um arquivo CSV\n",
        "resultados = pd.DataFrame({'Total de Vendas': [total_vendas], 'Produto Mais Vendido': [produto_mais_vendido]})\n",
        "resultados.to_csv('resultados_analise.csv', index=False)\n"
      ],
      "metadata": {
        "colab": {
          "base_uri": "https://localhost:8080/"
        },
        "id": "noLDNpOtiuTc",
        "outputId": "25781f15-1f1f-4ef4-978e-fa76c4be7e5e"
      },
      "execution_count": 131,
      "outputs": [
        {
          "output_type": "stream",
          "name": "stdout",
          "text": [
            "Conclusão:\n",
            "Total de Vendas: 14594.31\n",
            "Produto Mais Vendido: Produto B\n",
            "Dia com Maior Número de Vendas: 2023-08-16\n",
            "Vendas totais por produto:\n",
            "     Produto  Total Vendas\n",
            "0  Produto A       2665.51\n",
            "1  Produto B       4778.73\n",
            "2  Produto C       2265.76\n",
            "3  Produto D       1885.50\n",
            "4  Produto E       2998.81\n"
          ]
        }
      ]
    },
    {
      "cell_type": "markdown",
      "source": [
        "## Tomada de Decisões de Negócios\n",
        "Com base nas análises, tome decisões de negócios para melhorar a experiência do cliente.\n",
        "Exemplo: Aumentar o estoque dos produtos mais vendidos ou implementar um sistema de recomendação em seu site."
      ],
      "metadata": {
        "id": "NMt9qcjdmwDk"
      }
    },
    {
      "cell_type": "markdown",
      "source": [
        "# Converter as colunas para trabalhar melhor no Power BI"
      ],
      "metadata": {
        "id": "7ohVSuzAOSy-"
      }
    },
    {
      "cell_type": "code",
      "source": [
        "# Converte as colunas \"Preço Unitário\" e \"Total Vendas\" para texto (string)\n",
        "df['Preço Unitário'] = df['Preço Unitário'].astype(str)\n",
        "df['Total Vendas'] = df['Total Vendas'].astype(str)\n",
        "\n",
        "# Substitui os pontos por vírgulas nas colunas \"Preço Unitário\" e \"Total Vendas\"\n",
        "df['Preço Unitário'] = df['Preço Unitário'].str.replace('.', ',')\n",
        "df['Total Vendas'] = df['Total Vendas'].str.replace('.', ',')\n",
        "\n",
        "# Exibe o DataFrame resultante\n",
        "print(df)"
      ],
      "metadata": {
        "id": "-emB80Aym-ti",
        "colab": {
          "base_uri": "https://localhost:8080/"
        },
        "outputId": "7c3a3256-c99c-4a14-953f-1ac3fa708e46"
      },
      "execution_count": 132,
      "outputs": [
        {
          "output_type": "stream",
          "name": "stdout",
          "text": [
            "    ClienteID        Data    Produto  Quantidade Preço Unitário Total Vendas\n",
            "0           1  2023-07-19  Produto A           9          32,93       296,37\n",
            "1           2  2023-05-23  Produto C          17          25,06       426,02\n",
            "2           3  2023-03-06  Produto B           5          27,75       138,75\n",
            "3           4  2023-09-22  Produto A          10          34,99        349,9\n",
            "4           5  2023-06-04  Produto C           2          24,98        49,96\n",
            "5           6  2023-06-25  Produto D           4          25,49       101,96\n",
            "6           7  2023-07-27  Produto E          15          40,84        612,6\n",
            "7           8  2023-07-09  Produto C          10           33,4        334,0\n",
            "8           9  2023-06-16  Produto A          18          15,94       286,92\n",
            "9          10  2023-10-20  Produto D           8          11,13        89,04\n",
            "10         11  2023-04-10  Produto B          11          31,01       341,11\n",
            "11         12  2023-02-11  Produto D          11          45,03       495,33\n",
            "12         13  2023-07-07  Produto A          16          14,86       237,76\n",
            "13         14  2023-07-18  Produto C          12          15,76       189,12\n",
            "14         15  2023-12-08  Produto E          18          46,95        845,1\n",
            "15         16  2023-06-20  Produto C          18          49,44       889,92\n",
            "16         17  2023-12-04  Produto D           3          11,58        34,74\n",
            "17         18  2023-07-01  Produto E           8          15,88       127,04\n",
            "18         19  2023-06-19  Produto D           8           13,6        108,8\n",
            "19         20  2023-02-27  Produto B          16          28,33       453,28\n",
            "20         21  2023-12-08  Produto D          16          11,29       180,64\n",
            "21         22  2023-08-21  Produto B          17          12,29       208,93\n",
            "22         23  2023-01-06  Produto E           2          30,62        61,24\n",
            "23         24  2023-06-05  Produto B          18          36,01       648,18\n",
            "24         25  2023-03-11  Produto E           6          48,47       290,82\n",
            "25         26  2023-08-16  Produto B          19          25,28       480,32\n",
            "26         27  2023-11-19  Produto A           5          36,62        183,1\n",
            "27         28  2023-01-18  Produto B          15          37,93       568,95\n",
            "28         29  2023-08-16  Produto B           9          10,15        91,35\n",
            "29         30  2023-12-28  Produto E           2          12,29        24,58\n",
            "30         31  2023-06-09  Produto A           6          45,89       275,34\n",
            "31         32  2023-10-07  Produto B           7          46,88       328,16\n",
            "32         33  2023-12-17  Produto C          13          28,98       376,74\n",
            "33         34  2023-09-23  Produto E          10          17,24        172,4\n",
            "34         35  2023-05-12  Produto E           7          13,33        93,31\n",
            "35         36  2023-04-01  Produto B           8          49,65        397,2\n",
            "36         37  2023-02-19  Produto A           9          32,31       290,79\n",
            "37         38  2023-04-22  Produto D          16          40,05        640,8\n",
            "38         39  2023-11-05  Produto E          18          27,84       501,12\n",
            "39         40  2023-09-12  Produto E           3          32,71        98,13\n",
            "40         41  2023-07-11  Produto B           6          20,94       125,64\n",
            "41         42  2023-09-12  Produto D          11          21,29       234,19\n",
            "42         43  2023-02-15  Produto A           7          39,32       275,24\n",
            "43         44  2023-06-09  Produto A           6          16,29        97,74\n",
            "44         45  2023-12-08  Produto E           2           32,1         64,2\n",
            "45         46  2023-05-15  Produto B          10          37,83        378,3\n",
            "46         47  2023-02-24  Produto B          16          35,13       562,08\n",
            "47         48  2023-09-20  Produto E           9          12,03       108,27\n",
            "48         49  2023-08-16  Produto B           2          28,24        56,48\n",
            "49         50  2023-01-18  Produto A          11          33,85       372,35\n"
          ]
        },
        {
          "output_type": "stream",
          "name": "stderr",
          "text": [
            "<ipython-input-132-cc6c63fbd650>:6: FutureWarning: The default value of regex will change from True to False in a future version. In addition, single character regular expressions will *not* be treated as literal strings when regex=True.\n",
            "  df['Preço Unitário'] = df['Preço Unitário'].str.replace('.', ',')\n",
            "<ipython-input-132-cc6c63fbd650>:7: FutureWarning: The default value of regex will change from True to False in a future version. In addition, single character regular expressions will *not* be treated as literal strings when regex=True.\n",
            "  df['Total Vendas'] = df['Total Vendas'].str.replace('.', ',')\n"
          ]
        }
      ]
    },
    {
      "cell_type": "code",
      "source": [
        "# Salvar o DataFrame em um arquivo CSV\n",
        "df.to_csv('dados_vendas_formatados.csv', index=False)"
      ],
      "metadata": {
        "id": "HLkl7-mmeFrk"
      },
      "execution_count": 133,
      "outputs": []
    },
    {
      "cell_type": "markdown",
      "source": [
        "## Criando um DataFrame ficticiais"
      ],
      "metadata": {
        "id": "Uaz0tsNOdz3K"
      }
    },
    {
      "cell_type": "markdown",
      "source": [
        "OBS:\n",
        "Se você tem acesso ao arquivo dados_vendas.csv então não rode esse código, pois aqui gera valores aleatórios.\n",
        "Aí você terá resultados diferentes com o que está no dashboard do Power BI\n"
      ],
      "metadata": {
        "id": "n-oyiYilObnJ"
      }
    },
    {
      "cell_type": "code",
      "execution_count": null,
      "metadata": {
        "id": "dnZ7iCMhaRei"
      },
      "outputs": [],
      "source": [
        "# Cabeçalho do CSV\n",
        "header = [\"ClienteID\",\"Data\", \"Produto\", \"Quantidade\", \"Preço Unitário\", \"Total Vendas\"]\n",
        "\n",
        "# Lista de produtos fictícios\n",
        "produtos = [\"Produto A\", \"Produto B\", \"Produto C\", \"Produto D\", \"Produto E\"]\n",
        "\n",
        "# Abra o arquivo CSV para escrita\n",
        "with open(\"dados_vendas.csv\", mode=\"w\", newline=\"\") as file:\n",
        "    writer = csv.writer(file)\n",
        "\n",
        "    # Escreva o cabeçalho\n",
        "    writer.writerow(header)\n",
        "\n",
        "    # Gere 50 linhas de dados fictícios\n",
        "    for cliente_id in range(1, 51): # loop será executado 50 vezes\n",
        "        data = date(2023, random.randint(1, 12), random.randint(1, 28)) # data gerado aleatóriamente ano 2023 mes de 1 á 12 e os dias de 1 á 28\n",
        "        produto = random.choice(produtos) # produto escolhido aleatoriamente da lista produtos\n",
        "        quantidade = random.randint(1, 20) # quantidade de produtos vendidos gerado aleatorimanete entre 1 a 20\n",
        "        preco_unitario = round(random.uniform(10, 50), 2) # o preço unitário de um produto é gerado aleatoriamente 10 e 50 decimal\n",
        "        total_vendas = round(quantidade * preco_unitario, 2) # total de vendas é calculado multiplicando quantidade vendida pelo preço unitário, arredondando o resultado para duas casas decimais.\n",
        "\n",
        "        # Escreva os dados da linha atual\n",
        "        writer.writerow([cliente_id, data.strftime(\"%Y-%m-%d\"), produto, quantidade, preco_unitario, total_vendas])"
      ]
    },
    {
      "cell_type": "code",
      "source": [
        "df = pd.read_csv('dados_vendas.csv')"
      ],
      "metadata": {
        "id": "EbATddhmbAGB"
      },
      "execution_count": 77,
      "outputs": []
    },
    {
      "cell_type": "code",
      "source": [
        "# Visualize as primeiras linhas do DataFrame\n",
        "df.head()"
      ],
      "metadata": {
        "colab": {
          "base_uri": "https://localhost:8080/",
          "height": 206
        },
        "id": "Uw3G_cEtfZwJ",
        "outputId": "d7a030b4-225f-45c8-a279-1c5974975e88"
      },
      "execution_count": 78,
      "outputs": [
        {
          "output_type": "execute_result",
          "data": {
            "text/plain": [
              "   ClienteID        Data    Produto  Quantidade  Preço Unitário  Total Vendas\n",
              "0          1  2023-07-19  Produto A           9           32.93        296.37\n",
              "1          2  2023-05-23  Produto C          17           25.06        426.02\n",
              "2          3  2023-03-06  Produto B           5           27.75        138.75\n",
              "3          4  2023-09-22  Produto A          10           34.99        349.90\n",
              "4          5  2023-06-04  Produto C           2           24.98         49.96"
            ],
            "text/html": [
              "\n",
              "  <div id=\"df-b24e0d9d-869c-465e-bb2a-90ee74bc07ac\" class=\"colab-df-container\">\n",
              "    <div>\n",
              "<style scoped>\n",
              "    .dataframe tbody tr th:only-of-type {\n",
              "        vertical-align: middle;\n",
              "    }\n",
              "\n",
              "    .dataframe tbody tr th {\n",
              "        vertical-align: top;\n",
              "    }\n",
              "\n",
              "    .dataframe thead th {\n",
              "        text-align: right;\n",
              "    }\n",
              "</style>\n",
              "<table border=\"1\" class=\"dataframe\">\n",
              "  <thead>\n",
              "    <tr style=\"text-align: right;\">\n",
              "      <th></th>\n",
              "      <th>ClienteID</th>\n",
              "      <th>Data</th>\n",
              "      <th>Produto</th>\n",
              "      <th>Quantidade</th>\n",
              "      <th>Preço Unitário</th>\n",
              "      <th>Total Vendas</th>\n",
              "    </tr>\n",
              "  </thead>\n",
              "  <tbody>\n",
              "    <tr>\n",
              "      <th>0</th>\n",
              "      <td>1</td>\n",
              "      <td>2023-07-19</td>\n",
              "      <td>Produto A</td>\n",
              "      <td>9</td>\n",
              "      <td>32.93</td>\n",
              "      <td>296.37</td>\n",
              "    </tr>\n",
              "    <tr>\n",
              "      <th>1</th>\n",
              "      <td>2</td>\n",
              "      <td>2023-05-23</td>\n",
              "      <td>Produto C</td>\n",
              "      <td>17</td>\n",
              "      <td>25.06</td>\n",
              "      <td>426.02</td>\n",
              "    </tr>\n",
              "    <tr>\n",
              "      <th>2</th>\n",
              "      <td>3</td>\n",
              "      <td>2023-03-06</td>\n",
              "      <td>Produto B</td>\n",
              "      <td>5</td>\n",
              "      <td>27.75</td>\n",
              "      <td>138.75</td>\n",
              "    </tr>\n",
              "    <tr>\n",
              "      <th>3</th>\n",
              "      <td>4</td>\n",
              "      <td>2023-09-22</td>\n",
              "      <td>Produto A</td>\n",
              "      <td>10</td>\n",
              "      <td>34.99</td>\n",
              "      <td>349.90</td>\n",
              "    </tr>\n",
              "    <tr>\n",
              "      <th>4</th>\n",
              "      <td>5</td>\n",
              "      <td>2023-06-04</td>\n",
              "      <td>Produto C</td>\n",
              "      <td>2</td>\n",
              "      <td>24.98</td>\n",
              "      <td>49.96</td>\n",
              "    </tr>\n",
              "  </tbody>\n",
              "</table>\n",
              "</div>\n",
              "    <div class=\"colab-df-buttons\">\n",
              "\n",
              "  <div class=\"colab-df-container\">\n",
              "    <button class=\"colab-df-convert\" onclick=\"convertToInteractive('df-b24e0d9d-869c-465e-bb2a-90ee74bc07ac')\"\n",
              "            title=\"Convert this dataframe to an interactive table.\"\n",
              "            style=\"display:none;\">\n",
              "\n",
              "  <svg xmlns=\"http://www.w3.org/2000/svg\" height=\"24px\" viewBox=\"0 -960 960 960\">\n",
              "    <path d=\"M120-120v-720h720v720H120Zm60-500h600v-160H180v160Zm220 220h160v-160H400v160Zm0 220h160v-160H400v160ZM180-400h160v-160H180v160Zm440 0h160v-160H620v160ZM180-180h160v-160H180v160Zm440 0h160v-160H620v160Z\"/>\n",
              "  </svg>\n",
              "    </button>\n",
              "\n",
              "  <style>\n",
              "    .colab-df-container {\n",
              "      display:flex;\n",
              "      gap: 12px;\n",
              "    }\n",
              "\n",
              "    .colab-df-convert {\n",
              "      background-color: #E8F0FE;\n",
              "      border: none;\n",
              "      border-radius: 50%;\n",
              "      cursor: pointer;\n",
              "      display: none;\n",
              "      fill: #1967D2;\n",
              "      height: 32px;\n",
              "      padding: 0 0 0 0;\n",
              "      width: 32px;\n",
              "    }\n",
              "\n",
              "    .colab-df-convert:hover {\n",
              "      background-color: #E2EBFA;\n",
              "      box-shadow: 0px 1px 2px rgba(60, 64, 67, 0.3), 0px 1px 3px 1px rgba(60, 64, 67, 0.15);\n",
              "      fill: #174EA6;\n",
              "    }\n",
              "\n",
              "    .colab-df-buttons div {\n",
              "      margin-bottom: 4px;\n",
              "    }\n",
              "\n",
              "    [theme=dark] .colab-df-convert {\n",
              "      background-color: #3B4455;\n",
              "      fill: #D2E3FC;\n",
              "    }\n",
              "\n",
              "    [theme=dark] .colab-df-convert:hover {\n",
              "      background-color: #434B5C;\n",
              "      box-shadow: 0px 1px 3px 1px rgba(0, 0, 0, 0.15);\n",
              "      filter: drop-shadow(0px 1px 2px rgba(0, 0, 0, 0.3));\n",
              "      fill: #FFFFFF;\n",
              "    }\n",
              "  </style>\n",
              "\n",
              "    <script>\n",
              "      const buttonEl =\n",
              "        document.querySelector('#df-b24e0d9d-869c-465e-bb2a-90ee74bc07ac button.colab-df-convert');\n",
              "      buttonEl.style.display =\n",
              "        google.colab.kernel.accessAllowed ? 'block' : 'none';\n",
              "\n",
              "      async function convertToInteractive(key) {\n",
              "        const element = document.querySelector('#df-b24e0d9d-869c-465e-bb2a-90ee74bc07ac');\n",
              "        const dataTable =\n",
              "          await google.colab.kernel.invokeFunction('convertToInteractive',\n",
              "                                                    [key], {});\n",
              "        if (!dataTable) return;\n",
              "\n",
              "        const docLinkHtml = 'Like what you see? Visit the ' +\n",
              "          '<a target=\"_blank\" href=https://colab.research.google.com/notebooks/data_table.ipynb>data table notebook</a>'\n",
              "          + ' to learn more about interactive tables.';\n",
              "        element.innerHTML = '';\n",
              "        dataTable['output_type'] = 'display_data';\n",
              "        await google.colab.output.renderOutput(dataTable, element);\n",
              "        const docLink = document.createElement('div');\n",
              "        docLink.innerHTML = docLinkHtml;\n",
              "        element.appendChild(docLink);\n",
              "      }\n",
              "    </script>\n",
              "  </div>\n",
              "\n",
              "\n",
              "<div id=\"df-76049813-fa8f-4576-bd43-c489642861a3\">\n",
              "  <button class=\"colab-df-quickchart\" onclick=\"quickchart('df-76049813-fa8f-4576-bd43-c489642861a3')\"\n",
              "            title=\"Suggest charts.\"\n",
              "            style=\"display:none;\">\n",
              "\n",
              "<svg xmlns=\"http://www.w3.org/2000/svg\" height=\"24px\"viewBox=\"0 0 24 24\"\n",
              "     width=\"24px\">\n",
              "    <g>\n",
              "        <path d=\"M19 3H5c-1.1 0-2 .9-2 2v14c0 1.1.9 2 2 2h14c1.1 0 2-.9 2-2V5c0-1.1-.9-2-2-2zM9 17H7v-7h2v7zm4 0h-2V7h2v10zm4 0h-2v-4h2v4z\"/>\n",
              "    </g>\n",
              "</svg>\n",
              "  </button>\n",
              "\n",
              "<style>\n",
              "  .colab-df-quickchart {\n",
              "      --bg-color: #E8F0FE;\n",
              "      --fill-color: #1967D2;\n",
              "      --hover-bg-color: #E2EBFA;\n",
              "      --hover-fill-color: #174EA6;\n",
              "      --disabled-fill-color: #AAA;\n",
              "      --disabled-bg-color: #DDD;\n",
              "  }\n",
              "\n",
              "  [theme=dark] .colab-df-quickchart {\n",
              "      --bg-color: #3B4455;\n",
              "      --fill-color: #D2E3FC;\n",
              "      --hover-bg-color: #434B5C;\n",
              "      --hover-fill-color: #FFFFFF;\n",
              "      --disabled-bg-color: #3B4455;\n",
              "      --disabled-fill-color: #666;\n",
              "  }\n",
              "\n",
              "  .colab-df-quickchart {\n",
              "    background-color: var(--bg-color);\n",
              "    border: none;\n",
              "    border-radius: 50%;\n",
              "    cursor: pointer;\n",
              "    display: none;\n",
              "    fill: var(--fill-color);\n",
              "    height: 32px;\n",
              "    padding: 0;\n",
              "    width: 32px;\n",
              "  }\n",
              "\n",
              "  .colab-df-quickchart:hover {\n",
              "    background-color: var(--hover-bg-color);\n",
              "    box-shadow: 0 1px 2px rgba(60, 64, 67, 0.3), 0 1px 3px 1px rgba(60, 64, 67, 0.15);\n",
              "    fill: var(--button-hover-fill-color);\n",
              "  }\n",
              "\n",
              "  .colab-df-quickchart-complete:disabled,\n",
              "  .colab-df-quickchart-complete:disabled:hover {\n",
              "    background-color: var(--disabled-bg-color);\n",
              "    fill: var(--disabled-fill-color);\n",
              "    box-shadow: none;\n",
              "  }\n",
              "\n",
              "  .colab-df-spinner {\n",
              "    border: 2px solid var(--fill-color);\n",
              "    border-color: transparent;\n",
              "    border-bottom-color: var(--fill-color);\n",
              "    animation:\n",
              "      spin 1s steps(1) infinite;\n",
              "  }\n",
              "\n",
              "  @keyframes spin {\n",
              "    0% {\n",
              "      border-color: transparent;\n",
              "      border-bottom-color: var(--fill-color);\n",
              "      border-left-color: var(--fill-color);\n",
              "    }\n",
              "    20% {\n",
              "      border-color: transparent;\n",
              "      border-left-color: var(--fill-color);\n",
              "      border-top-color: var(--fill-color);\n",
              "    }\n",
              "    30% {\n",
              "      border-color: transparent;\n",
              "      border-left-color: var(--fill-color);\n",
              "      border-top-color: var(--fill-color);\n",
              "      border-right-color: var(--fill-color);\n",
              "    }\n",
              "    40% {\n",
              "      border-color: transparent;\n",
              "      border-right-color: var(--fill-color);\n",
              "      border-top-color: var(--fill-color);\n",
              "    }\n",
              "    60% {\n",
              "      border-color: transparent;\n",
              "      border-right-color: var(--fill-color);\n",
              "    }\n",
              "    80% {\n",
              "      border-color: transparent;\n",
              "      border-right-color: var(--fill-color);\n",
              "      border-bottom-color: var(--fill-color);\n",
              "    }\n",
              "    90% {\n",
              "      border-color: transparent;\n",
              "      border-bottom-color: var(--fill-color);\n",
              "    }\n",
              "  }\n",
              "</style>\n",
              "\n",
              "  <script>\n",
              "    async function quickchart(key) {\n",
              "      const quickchartButtonEl =\n",
              "        document.querySelector('#' + key + ' button');\n",
              "      quickchartButtonEl.disabled = true;  // To prevent multiple clicks.\n",
              "      quickchartButtonEl.classList.add('colab-df-spinner');\n",
              "      try {\n",
              "        const charts = await google.colab.kernel.invokeFunction(\n",
              "            'suggestCharts', [key], {});\n",
              "      } catch (error) {\n",
              "        console.error('Error during call to suggestCharts:', error);\n",
              "      }\n",
              "      quickchartButtonEl.classList.remove('colab-df-spinner');\n",
              "      quickchartButtonEl.classList.add('colab-df-quickchart-complete');\n",
              "    }\n",
              "    (() => {\n",
              "      let quickchartButtonEl =\n",
              "        document.querySelector('#df-76049813-fa8f-4576-bd43-c489642861a3 button');\n",
              "      quickchartButtonEl.style.display =\n",
              "        google.colab.kernel.accessAllowed ? 'block' : 'none';\n",
              "    })();\n",
              "  </script>\n",
              "</div>\n",
              "    </div>\n",
              "  </div>\n"
            ]
          },
          "metadata": {},
          "execution_count": 78
        }
      ]
    },
    {
      "cell_type": "code",
      "source": [
        "df[['ClienteID','Produto', 'Quantidade', 'Preço Unitário', 'Total Vendas']]"
      ],
      "metadata": {
        "colab": {
          "base_uri": "https://localhost:8080/",
          "height": 1000
        },
        "id": "1aKG_1pahFlo",
        "outputId": "c1c47703-b43f-4b78-d8c6-3b56cd2599fe"
      },
      "execution_count": 79,
      "outputs": [
        {
          "output_type": "execute_result",
          "data": {
            "text/plain": [
              "    ClienteID    Produto  Quantidade  Preço Unitário  Total Vendas\n",
              "0           1  Produto A           9           32.93        296.37\n",
              "1           2  Produto C          17           25.06        426.02\n",
              "2           3  Produto B           5           27.75        138.75\n",
              "3           4  Produto A          10           34.99        349.90\n",
              "4           5  Produto C           2           24.98         49.96\n",
              "5           6  Produto D           4           25.49        101.96\n",
              "6           7  Produto E          15           40.84        612.60\n",
              "7           8  Produto C          10           33.40        334.00\n",
              "8           9  Produto A          18           15.94        286.92\n",
              "9          10  Produto D           8           11.13         89.04\n",
              "10         11  Produto B          11           31.01        341.11\n",
              "11         12  Produto D          11           45.03        495.33\n",
              "12         13  Produto A          16           14.86        237.76\n",
              "13         14  Produto C          12           15.76        189.12\n",
              "14         15  Produto E          18           46.95        845.10\n",
              "15         16  Produto C          18           49.44        889.92\n",
              "16         17  Produto D           3           11.58         34.74\n",
              "17         18  Produto E           8           15.88        127.04\n",
              "18         19  Produto D           8           13.60        108.80\n",
              "19         20  Produto B          16           28.33        453.28\n",
              "20         21  Produto D          16           11.29        180.64\n",
              "21         22  Produto B          17           12.29        208.93\n",
              "22         23  Produto E           2           30.62         61.24\n",
              "23         24  Produto B          18           36.01        648.18\n",
              "24         25  Produto E           6           48.47        290.82\n",
              "25         26  Produto B          19           25.28        480.32\n",
              "26         27  Produto A           5           36.62        183.10\n",
              "27         28  Produto B          15           37.93        568.95\n",
              "28         29  Produto B           9           10.15         91.35\n",
              "29         30  Produto E           2           12.29         24.58\n",
              "30         31  Produto A           6           45.89        275.34\n",
              "31         32  Produto B           7           46.88        328.16\n",
              "32         33  Produto C          13           28.98        376.74\n",
              "33         34  Produto E          10           17.24        172.40\n",
              "34         35  Produto E           7           13.33         93.31\n",
              "35         36  Produto B           8           49.65        397.20\n",
              "36         37  Produto A           9           32.31        290.79\n",
              "37         38  Produto D          16           40.05        640.80\n",
              "38         39  Produto E          18           27.84        501.12\n",
              "39         40  Produto E           3           32.71         98.13\n",
              "40         41  Produto B           6           20.94        125.64\n",
              "41         42  Produto D          11           21.29        234.19\n",
              "42         43  Produto A           7           39.32        275.24\n",
              "43         44  Produto A           6           16.29         97.74\n",
              "44         45  Produto E           2           32.10         64.20\n",
              "45         46  Produto B          10           37.83        378.30\n",
              "46         47  Produto B          16           35.13        562.08\n",
              "47         48  Produto E           9           12.03        108.27\n",
              "48         49  Produto B           2           28.24         56.48\n",
              "49         50  Produto A          11           33.85        372.35"
            ],
            "text/html": [
              "\n",
              "  <div id=\"df-b1c56bf9-a82c-43e3-a8fc-55c2a44d2e8a\" class=\"colab-df-container\">\n",
              "    <div>\n",
              "<style scoped>\n",
              "    .dataframe tbody tr th:only-of-type {\n",
              "        vertical-align: middle;\n",
              "    }\n",
              "\n",
              "    .dataframe tbody tr th {\n",
              "        vertical-align: top;\n",
              "    }\n",
              "\n",
              "    .dataframe thead th {\n",
              "        text-align: right;\n",
              "    }\n",
              "</style>\n",
              "<table border=\"1\" class=\"dataframe\">\n",
              "  <thead>\n",
              "    <tr style=\"text-align: right;\">\n",
              "      <th></th>\n",
              "      <th>ClienteID</th>\n",
              "      <th>Produto</th>\n",
              "      <th>Quantidade</th>\n",
              "      <th>Preço Unitário</th>\n",
              "      <th>Total Vendas</th>\n",
              "    </tr>\n",
              "  </thead>\n",
              "  <tbody>\n",
              "    <tr>\n",
              "      <th>0</th>\n",
              "      <td>1</td>\n",
              "      <td>Produto A</td>\n",
              "      <td>9</td>\n",
              "      <td>32.93</td>\n",
              "      <td>296.37</td>\n",
              "    </tr>\n",
              "    <tr>\n",
              "      <th>1</th>\n",
              "      <td>2</td>\n",
              "      <td>Produto C</td>\n",
              "      <td>17</td>\n",
              "      <td>25.06</td>\n",
              "      <td>426.02</td>\n",
              "    </tr>\n",
              "    <tr>\n",
              "      <th>2</th>\n",
              "      <td>3</td>\n",
              "      <td>Produto B</td>\n",
              "      <td>5</td>\n",
              "      <td>27.75</td>\n",
              "      <td>138.75</td>\n",
              "    </tr>\n",
              "    <tr>\n",
              "      <th>3</th>\n",
              "      <td>4</td>\n",
              "      <td>Produto A</td>\n",
              "      <td>10</td>\n",
              "      <td>34.99</td>\n",
              "      <td>349.90</td>\n",
              "    </tr>\n",
              "    <tr>\n",
              "      <th>4</th>\n",
              "      <td>5</td>\n",
              "      <td>Produto C</td>\n",
              "      <td>2</td>\n",
              "      <td>24.98</td>\n",
              "      <td>49.96</td>\n",
              "    </tr>\n",
              "    <tr>\n",
              "      <th>5</th>\n",
              "      <td>6</td>\n",
              "      <td>Produto D</td>\n",
              "      <td>4</td>\n",
              "      <td>25.49</td>\n",
              "      <td>101.96</td>\n",
              "    </tr>\n",
              "    <tr>\n",
              "      <th>6</th>\n",
              "      <td>7</td>\n",
              "      <td>Produto E</td>\n",
              "      <td>15</td>\n",
              "      <td>40.84</td>\n",
              "      <td>612.60</td>\n",
              "    </tr>\n",
              "    <tr>\n",
              "      <th>7</th>\n",
              "      <td>8</td>\n",
              "      <td>Produto C</td>\n",
              "      <td>10</td>\n",
              "      <td>33.40</td>\n",
              "      <td>334.00</td>\n",
              "    </tr>\n",
              "    <tr>\n",
              "      <th>8</th>\n",
              "      <td>9</td>\n",
              "      <td>Produto A</td>\n",
              "      <td>18</td>\n",
              "      <td>15.94</td>\n",
              "      <td>286.92</td>\n",
              "    </tr>\n",
              "    <tr>\n",
              "      <th>9</th>\n",
              "      <td>10</td>\n",
              "      <td>Produto D</td>\n",
              "      <td>8</td>\n",
              "      <td>11.13</td>\n",
              "      <td>89.04</td>\n",
              "    </tr>\n",
              "    <tr>\n",
              "      <th>10</th>\n",
              "      <td>11</td>\n",
              "      <td>Produto B</td>\n",
              "      <td>11</td>\n",
              "      <td>31.01</td>\n",
              "      <td>341.11</td>\n",
              "    </tr>\n",
              "    <tr>\n",
              "      <th>11</th>\n",
              "      <td>12</td>\n",
              "      <td>Produto D</td>\n",
              "      <td>11</td>\n",
              "      <td>45.03</td>\n",
              "      <td>495.33</td>\n",
              "    </tr>\n",
              "    <tr>\n",
              "      <th>12</th>\n",
              "      <td>13</td>\n",
              "      <td>Produto A</td>\n",
              "      <td>16</td>\n",
              "      <td>14.86</td>\n",
              "      <td>237.76</td>\n",
              "    </tr>\n",
              "    <tr>\n",
              "      <th>13</th>\n",
              "      <td>14</td>\n",
              "      <td>Produto C</td>\n",
              "      <td>12</td>\n",
              "      <td>15.76</td>\n",
              "      <td>189.12</td>\n",
              "    </tr>\n",
              "    <tr>\n",
              "      <th>14</th>\n",
              "      <td>15</td>\n",
              "      <td>Produto E</td>\n",
              "      <td>18</td>\n",
              "      <td>46.95</td>\n",
              "      <td>845.10</td>\n",
              "    </tr>\n",
              "    <tr>\n",
              "      <th>15</th>\n",
              "      <td>16</td>\n",
              "      <td>Produto C</td>\n",
              "      <td>18</td>\n",
              "      <td>49.44</td>\n",
              "      <td>889.92</td>\n",
              "    </tr>\n",
              "    <tr>\n",
              "      <th>16</th>\n",
              "      <td>17</td>\n",
              "      <td>Produto D</td>\n",
              "      <td>3</td>\n",
              "      <td>11.58</td>\n",
              "      <td>34.74</td>\n",
              "    </tr>\n",
              "    <tr>\n",
              "      <th>17</th>\n",
              "      <td>18</td>\n",
              "      <td>Produto E</td>\n",
              "      <td>8</td>\n",
              "      <td>15.88</td>\n",
              "      <td>127.04</td>\n",
              "    </tr>\n",
              "    <tr>\n",
              "      <th>18</th>\n",
              "      <td>19</td>\n",
              "      <td>Produto D</td>\n",
              "      <td>8</td>\n",
              "      <td>13.60</td>\n",
              "      <td>108.80</td>\n",
              "    </tr>\n",
              "    <tr>\n",
              "      <th>19</th>\n",
              "      <td>20</td>\n",
              "      <td>Produto B</td>\n",
              "      <td>16</td>\n",
              "      <td>28.33</td>\n",
              "      <td>453.28</td>\n",
              "    </tr>\n",
              "    <tr>\n",
              "      <th>20</th>\n",
              "      <td>21</td>\n",
              "      <td>Produto D</td>\n",
              "      <td>16</td>\n",
              "      <td>11.29</td>\n",
              "      <td>180.64</td>\n",
              "    </tr>\n",
              "    <tr>\n",
              "      <th>21</th>\n",
              "      <td>22</td>\n",
              "      <td>Produto B</td>\n",
              "      <td>17</td>\n",
              "      <td>12.29</td>\n",
              "      <td>208.93</td>\n",
              "    </tr>\n",
              "    <tr>\n",
              "      <th>22</th>\n",
              "      <td>23</td>\n",
              "      <td>Produto E</td>\n",
              "      <td>2</td>\n",
              "      <td>30.62</td>\n",
              "      <td>61.24</td>\n",
              "    </tr>\n",
              "    <tr>\n",
              "      <th>23</th>\n",
              "      <td>24</td>\n",
              "      <td>Produto B</td>\n",
              "      <td>18</td>\n",
              "      <td>36.01</td>\n",
              "      <td>648.18</td>\n",
              "    </tr>\n",
              "    <tr>\n",
              "      <th>24</th>\n",
              "      <td>25</td>\n",
              "      <td>Produto E</td>\n",
              "      <td>6</td>\n",
              "      <td>48.47</td>\n",
              "      <td>290.82</td>\n",
              "    </tr>\n",
              "    <tr>\n",
              "      <th>25</th>\n",
              "      <td>26</td>\n",
              "      <td>Produto B</td>\n",
              "      <td>19</td>\n",
              "      <td>25.28</td>\n",
              "      <td>480.32</td>\n",
              "    </tr>\n",
              "    <tr>\n",
              "      <th>26</th>\n",
              "      <td>27</td>\n",
              "      <td>Produto A</td>\n",
              "      <td>5</td>\n",
              "      <td>36.62</td>\n",
              "      <td>183.10</td>\n",
              "    </tr>\n",
              "    <tr>\n",
              "      <th>27</th>\n",
              "      <td>28</td>\n",
              "      <td>Produto B</td>\n",
              "      <td>15</td>\n",
              "      <td>37.93</td>\n",
              "      <td>568.95</td>\n",
              "    </tr>\n",
              "    <tr>\n",
              "      <th>28</th>\n",
              "      <td>29</td>\n",
              "      <td>Produto B</td>\n",
              "      <td>9</td>\n",
              "      <td>10.15</td>\n",
              "      <td>91.35</td>\n",
              "    </tr>\n",
              "    <tr>\n",
              "      <th>29</th>\n",
              "      <td>30</td>\n",
              "      <td>Produto E</td>\n",
              "      <td>2</td>\n",
              "      <td>12.29</td>\n",
              "      <td>24.58</td>\n",
              "    </tr>\n",
              "    <tr>\n",
              "      <th>30</th>\n",
              "      <td>31</td>\n",
              "      <td>Produto A</td>\n",
              "      <td>6</td>\n",
              "      <td>45.89</td>\n",
              "      <td>275.34</td>\n",
              "    </tr>\n",
              "    <tr>\n",
              "      <th>31</th>\n",
              "      <td>32</td>\n",
              "      <td>Produto B</td>\n",
              "      <td>7</td>\n",
              "      <td>46.88</td>\n",
              "      <td>328.16</td>\n",
              "    </tr>\n",
              "    <tr>\n",
              "      <th>32</th>\n",
              "      <td>33</td>\n",
              "      <td>Produto C</td>\n",
              "      <td>13</td>\n",
              "      <td>28.98</td>\n",
              "      <td>376.74</td>\n",
              "    </tr>\n",
              "    <tr>\n",
              "      <th>33</th>\n",
              "      <td>34</td>\n",
              "      <td>Produto E</td>\n",
              "      <td>10</td>\n",
              "      <td>17.24</td>\n",
              "      <td>172.40</td>\n",
              "    </tr>\n",
              "    <tr>\n",
              "      <th>34</th>\n",
              "      <td>35</td>\n",
              "      <td>Produto E</td>\n",
              "      <td>7</td>\n",
              "      <td>13.33</td>\n",
              "      <td>93.31</td>\n",
              "    </tr>\n",
              "    <tr>\n",
              "      <th>35</th>\n",
              "      <td>36</td>\n",
              "      <td>Produto B</td>\n",
              "      <td>8</td>\n",
              "      <td>49.65</td>\n",
              "      <td>397.20</td>\n",
              "    </tr>\n",
              "    <tr>\n",
              "      <th>36</th>\n",
              "      <td>37</td>\n",
              "      <td>Produto A</td>\n",
              "      <td>9</td>\n",
              "      <td>32.31</td>\n",
              "      <td>290.79</td>\n",
              "    </tr>\n",
              "    <tr>\n",
              "      <th>37</th>\n",
              "      <td>38</td>\n",
              "      <td>Produto D</td>\n",
              "      <td>16</td>\n",
              "      <td>40.05</td>\n",
              "      <td>640.80</td>\n",
              "    </tr>\n",
              "    <tr>\n",
              "      <th>38</th>\n",
              "      <td>39</td>\n",
              "      <td>Produto E</td>\n",
              "      <td>18</td>\n",
              "      <td>27.84</td>\n",
              "      <td>501.12</td>\n",
              "    </tr>\n",
              "    <tr>\n",
              "      <th>39</th>\n",
              "      <td>40</td>\n",
              "      <td>Produto E</td>\n",
              "      <td>3</td>\n",
              "      <td>32.71</td>\n",
              "      <td>98.13</td>\n",
              "    </tr>\n",
              "    <tr>\n",
              "      <th>40</th>\n",
              "      <td>41</td>\n",
              "      <td>Produto B</td>\n",
              "      <td>6</td>\n",
              "      <td>20.94</td>\n",
              "      <td>125.64</td>\n",
              "    </tr>\n",
              "    <tr>\n",
              "      <th>41</th>\n",
              "      <td>42</td>\n",
              "      <td>Produto D</td>\n",
              "      <td>11</td>\n",
              "      <td>21.29</td>\n",
              "      <td>234.19</td>\n",
              "    </tr>\n",
              "    <tr>\n",
              "      <th>42</th>\n",
              "      <td>43</td>\n",
              "      <td>Produto A</td>\n",
              "      <td>7</td>\n",
              "      <td>39.32</td>\n",
              "      <td>275.24</td>\n",
              "    </tr>\n",
              "    <tr>\n",
              "      <th>43</th>\n",
              "      <td>44</td>\n",
              "      <td>Produto A</td>\n",
              "      <td>6</td>\n",
              "      <td>16.29</td>\n",
              "      <td>97.74</td>\n",
              "    </tr>\n",
              "    <tr>\n",
              "      <th>44</th>\n",
              "      <td>45</td>\n",
              "      <td>Produto E</td>\n",
              "      <td>2</td>\n",
              "      <td>32.10</td>\n",
              "      <td>64.20</td>\n",
              "    </tr>\n",
              "    <tr>\n",
              "      <th>45</th>\n",
              "      <td>46</td>\n",
              "      <td>Produto B</td>\n",
              "      <td>10</td>\n",
              "      <td>37.83</td>\n",
              "      <td>378.30</td>\n",
              "    </tr>\n",
              "    <tr>\n",
              "      <th>46</th>\n",
              "      <td>47</td>\n",
              "      <td>Produto B</td>\n",
              "      <td>16</td>\n",
              "      <td>35.13</td>\n",
              "      <td>562.08</td>\n",
              "    </tr>\n",
              "    <tr>\n",
              "      <th>47</th>\n",
              "      <td>48</td>\n",
              "      <td>Produto E</td>\n",
              "      <td>9</td>\n",
              "      <td>12.03</td>\n",
              "      <td>108.27</td>\n",
              "    </tr>\n",
              "    <tr>\n",
              "      <th>48</th>\n",
              "      <td>49</td>\n",
              "      <td>Produto B</td>\n",
              "      <td>2</td>\n",
              "      <td>28.24</td>\n",
              "      <td>56.48</td>\n",
              "    </tr>\n",
              "    <tr>\n",
              "      <th>49</th>\n",
              "      <td>50</td>\n",
              "      <td>Produto A</td>\n",
              "      <td>11</td>\n",
              "      <td>33.85</td>\n",
              "      <td>372.35</td>\n",
              "    </tr>\n",
              "  </tbody>\n",
              "</table>\n",
              "</div>\n",
              "    <div class=\"colab-df-buttons\">\n",
              "\n",
              "  <div class=\"colab-df-container\">\n",
              "    <button class=\"colab-df-convert\" onclick=\"convertToInteractive('df-b1c56bf9-a82c-43e3-a8fc-55c2a44d2e8a')\"\n",
              "            title=\"Convert this dataframe to an interactive table.\"\n",
              "            style=\"display:none;\">\n",
              "\n",
              "  <svg xmlns=\"http://www.w3.org/2000/svg\" height=\"24px\" viewBox=\"0 -960 960 960\">\n",
              "    <path d=\"M120-120v-720h720v720H120Zm60-500h600v-160H180v160Zm220 220h160v-160H400v160Zm0 220h160v-160H400v160ZM180-400h160v-160H180v160Zm440 0h160v-160H620v160ZM180-180h160v-160H180v160Zm440 0h160v-160H620v160Z\"/>\n",
              "  </svg>\n",
              "    </button>\n",
              "\n",
              "  <style>\n",
              "    .colab-df-container {\n",
              "      display:flex;\n",
              "      gap: 12px;\n",
              "    }\n",
              "\n",
              "    .colab-df-convert {\n",
              "      background-color: #E8F0FE;\n",
              "      border: none;\n",
              "      border-radius: 50%;\n",
              "      cursor: pointer;\n",
              "      display: none;\n",
              "      fill: #1967D2;\n",
              "      height: 32px;\n",
              "      padding: 0 0 0 0;\n",
              "      width: 32px;\n",
              "    }\n",
              "\n",
              "    .colab-df-convert:hover {\n",
              "      background-color: #E2EBFA;\n",
              "      box-shadow: 0px 1px 2px rgba(60, 64, 67, 0.3), 0px 1px 3px 1px rgba(60, 64, 67, 0.15);\n",
              "      fill: #174EA6;\n",
              "    }\n",
              "\n",
              "    .colab-df-buttons div {\n",
              "      margin-bottom: 4px;\n",
              "    }\n",
              "\n",
              "    [theme=dark] .colab-df-convert {\n",
              "      background-color: #3B4455;\n",
              "      fill: #D2E3FC;\n",
              "    }\n",
              "\n",
              "    [theme=dark] .colab-df-convert:hover {\n",
              "      background-color: #434B5C;\n",
              "      box-shadow: 0px 1px 3px 1px rgba(0, 0, 0, 0.15);\n",
              "      filter: drop-shadow(0px 1px 2px rgba(0, 0, 0, 0.3));\n",
              "      fill: #FFFFFF;\n",
              "    }\n",
              "  </style>\n",
              "\n",
              "    <script>\n",
              "      const buttonEl =\n",
              "        document.querySelector('#df-b1c56bf9-a82c-43e3-a8fc-55c2a44d2e8a button.colab-df-convert');\n",
              "      buttonEl.style.display =\n",
              "        google.colab.kernel.accessAllowed ? 'block' : 'none';\n",
              "\n",
              "      async function convertToInteractive(key) {\n",
              "        const element = document.querySelector('#df-b1c56bf9-a82c-43e3-a8fc-55c2a44d2e8a');\n",
              "        const dataTable =\n",
              "          await google.colab.kernel.invokeFunction('convertToInteractive',\n",
              "                                                    [key], {});\n",
              "        if (!dataTable) return;\n",
              "\n",
              "        const docLinkHtml = 'Like what you see? Visit the ' +\n",
              "          '<a target=\"_blank\" href=https://colab.research.google.com/notebooks/data_table.ipynb>data table notebook</a>'\n",
              "          + ' to learn more about interactive tables.';\n",
              "        element.innerHTML = '';\n",
              "        dataTable['output_type'] = 'display_data';\n",
              "        await google.colab.output.renderOutput(dataTable, element);\n",
              "        const docLink = document.createElement('div');\n",
              "        docLink.innerHTML = docLinkHtml;\n",
              "        element.appendChild(docLink);\n",
              "      }\n",
              "    </script>\n",
              "  </div>\n",
              "\n",
              "\n",
              "<div id=\"df-4d433067-00c5-41c9-becf-1d67e242d322\">\n",
              "  <button class=\"colab-df-quickchart\" onclick=\"quickchart('df-4d433067-00c5-41c9-becf-1d67e242d322')\"\n",
              "            title=\"Suggest charts.\"\n",
              "            style=\"display:none;\">\n",
              "\n",
              "<svg xmlns=\"http://www.w3.org/2000/svg\" height=\"24px\"viewBox=\"0 0 24 24\"\n",
              "     width=\"24px\">\n",
              "    <g>\n",
              "        <path d=\"M19 3H5c-1.1 0-2 .9-2 2v14c0 1.1.9 2 2 2h14c1.1 0 2-.9 2-2V5c0-1.1-.9-2-2-2zM9 17H7v-7h2v7zm4 0h-2V7h2v10zm4 0h-2v-4h2v4z\"/>\n",
              "    </g>\n",
              "</svg>\n",
              "  </button>\n",
              "\n",
              "<style>\n",
              "  .colab-df-quickchart {\n",
              "      --bg-color: #E8F0FE;\n",
              "      --fill-color: #1967D2;\n",
              "      --hover-bg-color: #E2EBFA;\n",
              "      --hover-fill-color: #174EA6;\n",
              "      --disabled-fill-color: #AAA;\n",
              "      --disabled-bg-color: #DDD;\n",
              "  }\n",
              "\n",
              "  [theme=dark] .colab-df-quickchart {\n",
              "      --bg-color: #3B4455;\n",
              "      --fill-color: #D2E3FC;\n",
              "      --hover-bg-color: #434B5C;\n",
              "      --hover-fill-color: #FFFFFF;\n",
              "      --disabled-bg-color: #3B4455;\n",
              "      --disabled-fill-color: #666;\n",
              "  }\n",
              "\n",
              "  .colab-df-quickchart {\n",
              "    background-color: var(--bg-color);\n",
              "    border: none;\n",
              "    border-radius: 50%;\n",
              "    cursor: pointer;\n",
              "    display: none;\n",
              "    fill: var(--fill-color);\n",
              "    height: 32px;\n",
              "    padding: 0;\n",
              "    width: 32px;\n",
              "  }\n",
              "\n",
              "  .colab-df-quickchart:hover {\n",
              "    background-color: var(--hover-bg-color);\n",
              "    box-shadow: 0 1px 2px rgba(60, 64, 67, 0.3), 0 1px 3px 1px rgba(60, 64, 67, 0.15);\n",
              "    fill: var(--button-hover-fill-color);\n",
              "  }\n",
              "\n",
              "  .colab-df-quickchart-complete:disabled,\n",
              "  .colab-df-quickchart-complete:disabled:hover {\n",
              "    background-color: var(--disabled-bg-color);\n",
              "    fill: var(--disabled-fill-color);\n",
              "    box-shadow: none;\n",
              "  }\n",
              "\n",
              "  .colab-df-spinner {\n",
              "    border: 2px solid var(--fill-color);\n",
              "    border-color: transparent;\n",
              "    border-bottom-color: var(--fill-color);\n",
              "    animation:\n",
              "      spin 1s steps(1) infinite;\n",
              "  }\n",
              "\n",
              "  @keyframes spin {\n",
              "    0% {\n",
              "      border-color: transparent;\n",
              "      border-bottom-color: var(--fill-color);\n",
              "      border-left-color: var(--fill-color);\n",
              "    }\n",
              "    20% {\n",
              "      border-color: transparent;\n",
              "      border-left-color: var(--fill-color);\n",
              "      border-top-color: var(--fill-color);\n",
              "    }\n",
              "    30% {\n",
              "      border-color: transparent;\n",
              "      border-left-color: var(--fill-color);\n",
              "      border-top-color: var(--fill-color);\n",
              "      border-right-color: var(--fill-color);\n",
              "    }\n",
              "    40% {\n",
              "      border-color: transparent;\n",
              "      border-right-color: var(--fill-color);\n",
              "      border-top-color: var(--fill-color);\n",
              "    }\n",
              "    60% {\n",
              "      border-color: transparent;\n",
              "      border-right-color: var(--fill-color);\n",
              "    }\n",
              "    80% {\n",
              "      border-color: transparent;\n",
              "      border-right-color: var(--fill-color);\n",
              "      border-bottom-color: var(--fill-color);\n",
              "    }\n",
              "    90% {\n",
              "      border-color: transparent;\n",
              "      border-bottom-color: var(--fill-color);\n",
              "    }\n",
              "  }\n",
              "</style>\n",
              "\n",
              "  <script>\n",
              "    async function quickchart(key) {\n",
              "      const quickchartButtonEl =\n",
              "        document.querySelector('#' + key + ' button');\n",
              "      quickchartButtonEl.disabled = true;  // To prevent multiple clicks.\n",
              "      quickchartButtonEl.classList.add('colab-df-spinner');\n",
              "      try {\n",
              "        const charts = await google.colab.kernel.invokeFunction(\n",
              "            'suggestCharts', [key], {});\n",
              "      } catch (error) {\n",
              "        console.error('Error during call to suggestCharts:', error);\n",
              "      }\n",
              "      quickchartButtonEl.classList.remove('colab-df-spinner');\n",
              "      quickchartButtonEl.classList.add('colab-df-quickchart-complete');\n",
              "    }\n",
              "    (() => {\n",
              "      let quickchartButtonEl =\n",
              "        document.querySelector('#df-4d433067-00c5-41c9-becf-1d67e242d322 button');\n",
              "      quickchartButtonEl.style.display =\n",
              "        google.colab.kernel.accessAllowed ? 'block' : 'none';\n",
              "    })();\n",
              "  </script>\n",
              "</div>\n",
              "    </div>\n",
              "  </div>\n"
            ]
          },
          "metadata": {},
          "execution_count": 79
        }
      ]
    },
    {
      "cell_type": "code",
      "source": [
        "# Verifique informações gerais dos dados\n",
        "print(df.info())\n"
      ],
      "metadata": {
        "colab": {
          "base_uri": "https://localhost:8080/"
        },
        "id": "66IBhqodfbRq",
        "outputId": "d60fb309-88a2-4ab4-a67e-7f634e974c2e"
      },
      "execution_count": 80,
      "outputs": [
        {
          "output_type": "stream",
          "name": "stdout",
          "text": [
            "<class 'pandas.core.frame.DataFrame'>\n",
            "RangeIndex: 50 entries, 0 to 49\n",
            "Data columns (total 6 columns):\n",
            " #   Column          Non-Null Count  Dtype  \n",
            "---  ------          --------------  -----  \n",
            " 0   ClienteID       50 non-null     int64  \n",
            " 1   Data            50 non-null     object \n",
            " 2   Produto         50 non-null     object \n",
            " 3   Quantidade      50 non-null     int64  \n",
            " 4   Preço Unitário  50 non-null     float64\n",
            " 5   Total Vendas    50 non-null     float64\n",
            "dtypes: float64(2), int64(2), object(2)\n",
            "memory usage: 2.5+ KB\n",
            "None\n"
          ]
        }
      ]
    },
    {
      "cell_type": "code",
      "source": [
        "# Calcule estatísticas descritivas\n",
        "print(df.describe())"
      ],
      "metadata": {
        "colab": {
          "base_uri": "https://localhost:8080/"
        },
        "id": "0f4xQxHTff6S",
        "outputId": "a30e8523-e92d-4dc2-fa6e-4433011d7ca2"
      },
      "execution_count": 81,
      "outputs": [
        {
          "output_type": "stream",
          "name": "stdout",
          "text": [
            "       ClienteID  Quantidade  Preço Unitário  Total Vendas\n",
            "count   50.00000   50.000000       50.000000     50.000000\n",
            "mean    25.50000   10.100000       28.356000    291.886200\n",
            "std     14.57738    5.269279       11.967676    210.333694\n",
            "min      1.00000    2.000000       10.150000     24.580000\n",
            "25%     13.25000    6.000000       16.027500    108.402500\n",
            "50%     25.50000    9.500000       28.655000    275.290000\n",
            "75%     37.75000   15.750000       36.467500    392.475000\n",
            "max     50.00000   19.000000       49.650000    889.920000\n"
          ]
        }
      ]
    }
  ]
}